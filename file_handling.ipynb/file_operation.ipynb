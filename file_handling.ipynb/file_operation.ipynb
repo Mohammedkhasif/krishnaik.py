{
 "cells": [
  {
   "cell_type": "code",
   "execution_count": 1,
   "metadata": {},
   "outputs": [
    {
     "name": "stdout",
     "output_type": "stream",
     "text": [
      "hi! how r u \n",
      "this is khasif\n",
      "iam a muslim \n",
      "iam muslim by birth but islam by love and choice..\n"
     ]
    }
   ],
   "source": [
    "# READ A WHOLE FILE\n",
    "\n",
    "with open('example.txt', 'r') as file:\n",
    "    content = file.read()\n",
    "    print(content)"
   ]
  },
  {
   "cell_type": "code",
   "execution_count": null,
   "metadata": {},
   "outputs": [
    {
     "name": "stdout",
     "output_type": "stream",
     "text": [
      "hi! how r u \n",
      "\n",
      "this is khasif\n",
      "\n",
      "iam a muslim \n",
      "\n",
      "iam muslim by birth but islam by love and choice..\n"
     ]
    }
   ],
   "source": [
    "#READ A FILE LINE BY LINE\n",
    "with open ('example.txt' , 'r') as file:\n",
    "    for line in file:\n",
    "        print(line)"
   ]
  },
  {
   "cell_type": "code",
   "execution_count": null,
   "metadata": {},
   "outputs": [
    {
     "name": "stdout",
     "output_type": "stream",
     "text": [
      "hi! how r u\n",
      "this is khasif\n",
      "iam a muslim\n",
      "iam muslim by birth but islam by love and choice..\n"
     ]
    }
   ],
   "source": [
    "with open('example.txt','r' )as file:\n",
    "    for line in file:\n",
    "        print(line.strip())\n",
    "        #.strip remove the new line\n",
    "        "
   ]
  },
  {
   "cell_type": "code",
   "execution_count": 5,
   "metadata": {},
   "outputs": [],
   "source": [
    "## WRITING THE FILE\n",
    "\n",
    "with open('example.txt', 'w' ) as file:\n",
    "    file.write('hello\\n')\n",
    "    file.write('this is a new line')"
   ]
  },
  {
   "cell_type": "code",
   "execution_count": null,
   "metadata": {},
   "outputs": [],
   "source": [
    "#WRITE A FILE WITHOUT OVERWRITING\n",
    "with open('example.txt', 'a') as file:\n",
    "    file.write(\"\\n append oprnt taking place\")"
   ]
  },
  {
   "cell_type": "code",
   "execution_count": 10,
   "metadata": {},
   "outputs": [],
   "source": [
    "#WRITE A LIST OF LINE TO A FILE\n",
    "lines = ['first line\\n', 'second line\\n', 'third line\\n']\n",
    "with open('example.txt' , 'a') as file:\n",
    "    file.writelines(lines)"
   ]
  },
  {
   "cell_type": "code",
   "execution_count": 11,
   "metadata": {},
   "outputs": [],
   "source": [
    "## Binary files\n",
    "\n",
    "data= b'\\x00\\x01\\x02\\x03\\x04\\x05\\x06\\x07\\x08\\x09'\n",
    "with open('example.bin', 'wb') as file:\n",
    "    file.write(data)\n"
   ]
  },
  {
   "cell_type": "code",
   "execution_count": 12,
   "metadata": {},
   "outputs": [
    {
     "name": "stdout",
     "output_type": "stream",
     "text": [
      "b'\\x00\\x01\\x02\\x03\\x04\\x05\\x06\\x07\\x08\\t'\n"
     ]
    }
   ],
   "source": [
    "with open('example.bin' ,'rb') as file:\n",
    "    content = file.read()\n",
    "    print(content)"
   ]
  },
  {
   "cell_type": "code",
   "execution_count": 14,
   "metadata": {},
   "outputs": [],
   "source": [
    "## READ THE CONTENT FROM A SOURCE TEXT FILE AND WRITW TO A DESTINATION TEXT FILE\n",
    "#COPYING A TEXT FILE\n",
    "\n",
    "with open('example.txt', 'r') as source_file:\n",
    "    content = source_file.read()\n",
    "\n",
    "    with open('destination.txt', 'w') as destination_file:\n",
    "        destination_file.write(content)"
   ]
  },
  {
   "cell_type": "code",
   "execution_count": 16,
   "metadata": {},
   "outputs": [
    {
     "name": "stdout",
     "output_type": "stream",
     "text": [
      "hello\n",
      "hi\n",
      "\n"
     ]
    }
   ],
   "source": [
    "with open('example.txt', 'w+') as file:\n",
    "    file.write(\"hello\\n\")\n",
    "    file.write(\"hi\\n\")\n",
    "    ## move the cursor to the beginning\n",
    "    # file.seek(0)\n",
    "    file.seek(0) \n",
    "\n",
    "    ## READ THE CONTENT OF THE FILE\n",
    "    content = file.read()\n",
    "    print(content)"
   ]
  },
  {
   "cell_type": "code",
   "execution_count": 17,
   "metadata": {},
   "outputs": [
    {
     "name": "stdout",
     "output_type": "stream",
     "text": [
      "the path'example.txt' is a file\n"
     ]
    }
   ],
   "source": [
    "import os\n",
    "\n",
    "path = 'example.txt'\n",
    "if os.path.isfile(path):\n",
    "    print(f\"the path'{path }' is a file\")\n",
    "elif os.path.isdir(path):\n",
    "    print(f\"the path'{path }' is a directory\")\n",
    "else:\n",
    "    print(f\"the path'{path }' is a neither a directory nor a file\")"
   ]
  },
  {
   "cell_type": "code",
   "execution_count": 18,
   "metadata": {},
   "outputs": [
    {
     "name": "stdout",
     "output_type": "stream",
     "text": [
      "d:\\krishnaik.py\\file_handling.ipynb\\example.txt\n"
     ]
    }
   ],
   "source": [
    "## GETTING THE ABSOLUTE PATH\n",
    "\n",
    "relativepath = 'example.txt'\n",
    "absolutepath  = os.path.abspath(relativepath)\n",
    "print(absolutepath)\n"
   ]
  },
  {
   "cell_type": "code",
   "execution_count": null,
   "metadata": {},
   "outputs": [],
   "source": []
  }
 ],
 "metadata": {
  "kernelspec": {
   "display_name": "Python 3",
   "language": "python",
   "name": "python3"
  },
  "language_info": {
   "codemirror_mode": {
    "name": "ipython",
    "version": 3
   },
   "file_extension": ".py",
   "mimetype": "text/x-python",
   "name": "python",
   "nbconvert_exporter": "python",
   "pygments_lexer": "ipython3",
   "version": "3.12.3"
  }
 },
 "nbformat": 4,
 "nbformat_minor": 2
}
